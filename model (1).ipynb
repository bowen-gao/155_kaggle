{
  "nbformat": 4,
  "nbformat_minor": 0,
  "metadata": {
    "colab": {
      "name": "model.ipynb",
      "provenance": [],
      "collapsed_sections": []
    },
    "kernelspec": {
      "name": "python3",
      "display_name": "Python 3"
    }
  },
  "cells": [
    {
      "cell_type": "code",
      "metadata": {
        "id": "sx-zF2dzFTbv",
        "colab_type": "code",
        "colab": {}
      },
      "source": [
        "import numpy as np\n",
        "import pandas as pd\n",
        "import torch"
      ],
      "execution_count": 0,
      "outputs": []
    },
    {
      "cell_type": "code",
      "metadata": {
        "id": "q7PDe3BhISvz",
        "colab_type": "code",
        "outputId": "bb7430b9-afbb-45d7-bef4-593e7b417645",
        "colab": {
          "base_uri": "https://localhost:8080/",
          "height": 70
        }
      },
      "source": [
        "training_data =  pd.read_csv('train.csv', sep=',', header = 0, skiprows = 0, nrows=10000)\n",
        "values = list(training_data.columns.values)\n",
        "print(len(values))\n",
        "training_Y = training_data[values[-1:]]\n",
        "training_Y = np.array(training_Y, dtype='int')\n",
        "training_Y = np.squeeze(training_Y)\n",
        "training_X = training_data[values[0:-1]]\n",
        "training_X = np.array(training_X, dtype='float32')[:, 1:]\n",
        "training_X = np.nan_to_num(training_X)\n",
        "training_X = torch.from_numpy(training_X)\n",
        "training_Y = torch.from_numpy(training_Y)\n",
        "print(training_X.shape)\n",
        "print(training_Y.shape)"
      ],
      "execution_count": 2,
      "outputs": [
        {
          "output_type": "stream",
          "text": [
            "28\n",
            "torch.Size([10000, 26])\n",
            "torch.Size([10000])\n"
          ],
          "name": "stdout"
        }
      ]
    },
    {
      "cell_type": "code",
      "metadata": {
        "id": "dE1jjUzOIgZw",
        "colab_type": "code",
        "colab": {}
      },
      "source": [
        "N, D_in, D_out = 10000, 26, 2"
      ],
      "execution_count": 0,
      "outputs": []
    },
    {
      "cell_type": "code",
      "metadata": {
        "id": "R3LggqMgQ1Wi",
        "colab_type": "code",
        "colab": {}
      },
      "source": [
        "model = torch.nn.Sequential(\n",
        "    torch.nn.Linear(D_in, 100),\n",
        "    torch.nn.ReLU(),\n",
        "    torch.nn.Linear(100, 100),\n",
        "    torch.nn.ReLU(),\n",
        "    torch.nn.Linear(100, 100),\n",
        "    torch.nn.ReLU(),\n",
        "    torch.nn.Linear(100, D_out),\n",
        ")\n",
        "\n",
        "loss_fn = torch.nn.CrossEntropyLoss()\n",
        "learning_rate = 1e-4"
      ],
      "execution_count": 0,
      "outputs": []
    },
    {
      "cell_type": "code",
      "metadata": {
        "id": "T4-LFo-FRmwD",
        "colab_type": "code",
        "outputId": "02d27663-9482-4241-d12a-ff99dca610ab",
        "colab": {
          "base_uri": "https://localhost:8080/",
          "height": 105
        }
      },
      "source": [
        "for t in range(500):\n",
        "    # Forward pass: compute predicted y by passing x to the model. Module objects\n",
        "    # override the __call__ operator so you can call them like functions. When\n",
        "    # doing so you pass a Tensor of input data to the Module and it produces\n",
        "    # a Tensor of output data.\n",
        "    y_pred = model(training_X)\n",
        "    #print(y_pred.shape)\n",
        "\n",
        "    # Compute and print loss. We pass Tensors containing the predicted and true\n",
        "    # values of y, and the loss function returns a Tensor containing the\n",
        "    # loss.\n",
        "    loss = loss_fn(y_pred, training_Y)\n",
        "    if t % 100 == 99:\n",
        "        print(t, loss.item())\n",
        "\n",
        "    # Zero the gradients before running the backward pass.\n",
        "    model.zero_grad()\n",
        "\n",
        "    # Backward pass: compute gradient of the loss with respect to all the learnable\n",
        "    # parameters of the model. Internally, the parameters of each Module are stored\n",
        "    # in Tensors with requires_grad=True, so this call will compute gradients for\n",
        "    # all learnable parameters in the model.\n",
        "    loss.backward()\n",
        "\n",
        "    # Update the weights using gradient descent. Each parameter is a Tensor, so\n",
        "    # we can access its gradients like we did before.\n",
        "    with torch.no_grad():\n",
        "        for param in model.parameters():\n",
        "            param -= learning_rate * param.grad"
      ],
      "execution_count": 5,
      "outputs": [
        {
          "output_type": "stream",
          "text": [
            "99 0.664962112903595\n",
            "199 0.6625385880470276\n",
            "299 0.6625150442123413\n",
            "399 0.6624929904937744\n",
            "499 0.6624693274497986\n"
          ],
          "name": "stdout"
        }
      ]
    },
    {
      "cell_type": "code",
      "metadata": {
        "id": "VtnDDjLFSK8j",
        "colab_type": "code",
        "colab": {
          "base_uri": "https://localhost:8080/",
          "height": 70
        },
        "outputId": "5c5a99b5-9e9e-48f9-c136-994c66ccf871"
      },
      "source": [
        "test_data =  pd.read_csv('train.csv', sep=',', header = 0, skiprows = 10000, nrows=1000)\n",
        "values = list(test_data.columns.values)\n",
        "print(len(values))\n",
        "test_Y = test_data[values[-1:]]\n",
        "test_Y = np.array(test_Y, dtype='int')\n",
        "test_Y = np.squeeze(test_Y)\n",
        "test_X = test_data[values[0:-1]]\n",
        "test_X = np.array(test_X, dtype='float32')[:, 1:]\n",
        "test_X = np.nan_to_num(test_X)\n",
        "test_X = torch.from_numpy(test_X)\n",
        "test_Y = torch.from_numpy(test_Y)\n",
        "print(test_X.shape)\n",
        "print(test_Y.shape)"
      ],
      "execution_count": 6,
      "outputs": [
        {
          "output_type": "stream",
          "text": [
            "28\n",
            "torch.Size([1000, 26])\n",
            "torch.Size([1000])\n"
          ],
          "name": "stdout"
        }
      ]
    },
    {
      "cell_type": "code",
      "metadata": {
        "id": "5HsjmrC9WoMf",
        "colab_type": "code",
        "colab": {
          "base_uri": "https://localhost:8080/",
          "height": 70
        },
        "outputId": "5e086600-9abc-45a5-90a4-21263ff8c248"
      },
      "source": [
        "correct = 0\n",
        "total = 0\n",
        "with torch.no_grad():\n",
        "    for i in range(test_X.shape[0]):\n",
        "        test_input, test_labels = test_X[i], test_Y[i]\n",
        "        outputs = model(test_input)\n",
        "        _, predicted = torch.max(outputs.data, 0)\n",
        "        total += 1\n",
        "        correct += (predicted == test_labels).sum().item()\n",
        "print(correct)\n",
        "print(total)\n",
        "\n",
        "print('Accuracy of the network on the test set: %d %%' % (\n",
        "    100 * correct / total))"
      ],
      "execution_count": 7,
      "outputs": [
        {
          "output_type": "stream",
          "text": [
            "636\n",
            "1000\n",
            "Accuracy of the network on the test set: 63 %\n"
          ],
          "name": "stdout"
        }
      ]
    },
    {
      "cell_type": "code",
      "metadata": {
        "id": "9NwzXK3UXPYM",
        "colab_type": "code",
        "colab": {}
      },
      "source": [
        ""
      ],
      "execution_count": 0,
      "outputs": []
    }
  ]
}